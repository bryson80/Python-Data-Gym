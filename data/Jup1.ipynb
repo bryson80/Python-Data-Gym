{
 "cells": [
  {
   "cell_type": "code",
   "execution_count": null,
   "id": "40885b64",
   "metadata": {},
   "outputs": [],
   "source": []
  },
  {
   "cell_type": "code",
   "execution_count": null,
   "id": "2f63b5f9",
   "metadata": {},
   "outputs": [
    {
     "name": "stdout",
     "output_type": "stream",
     "text": [
      "/Users/mac/Documents/Documents/KADI GYM/Python-Data-Gym/kadigym1/data/meteo/VRXA00.202310190530\n"
     ]
    }
   ],
   "source": [
    "file_path = \"/Users/mac/Documents/Documents/KADI GYM/Python-Data-Gym/kadigym1/data/meteo/VRXA00.202310190530\"\n",
    "#file_path = \"kadigym1\\data\\meteo\\VRXA00.202310190000\"\n",
    "print(file_path)"
   ]
  },
  {
   "cell_type": "code",
   "execution_count": 54,
   "id": "c33c4b98",
   "metadata": {},
   "outputs": [
    {
     "name": "stdout",
     "output_type": "stream",
     "text": [
      "['16082\\n', 'VRXA00 LSSW 190530\\n', '\\n', 'iii zzzztttt tre200s0 uor200s0 prestas0 fa1010z0 da1010z0 rre150z0 ta1200s0 ua1200s0 pa1stas0 fkl010z0 dkl010z0 ra1150z0 fkl010z1 gor000z0 ta2200s0 ua2200s0\\n', '187 202310190530 007.3 098.6 0662.9 003.4 329.6 00000.00 006.8 100.0 0662.7 003.9 008.6 00000.00 004.8 283.9 7.770 99.320\\n']\n"
     ]
    }
   ],
   "source": [
    "with open(file=file_path) as fh:\n",
    "    file_content = fh.readlines()\n",
    "\n",
    "print(file_content)"
   ]
  },
  {
   "cell_type": "code",
   "execution_count": 55,
   "id": "63743841",
   "metadata": {},
   "outputs": [
    {
     "name": "stdout",
     "output_type": "stream",
     "text": [
      "iii zzzztttt tre200s0 uor200s0 prestas0 fa1010z0 da1010z0 rre150z0 ta1200s0 ua1200s0 pa1stas0 fkl010z0 dkl010z0 ra1150z0 fkl010z1 gor000z0 ta2200s0 ua2200s0\n",
      "\n",
      "['iii', 'zzzztttt', 'tre200s0', 'uor200s0', 'prestas0', 'fa1010z0', 'da1010z0', 'rre150z0', 'ta1200s0', 'ua1200s0', 'pa1stas0', 'fkl010z0', 'dkl010z0', 'ra1150z0', 'fkl010z1', 'gor000z0', 'ta2200s0', 'ua2200s0']\n"
     ]
    }
   ],
   "source": [
    "header = file_content[3]\n",
    "print(header)\n",
    "header = header.split()\n",
    "print(header)"
   ]
  },
  {
   "cell_type": "code",
   "execution_count": 25,
   "id": "3cfd8b9a",
   "metadata": {},
   "outputs": [
    {
     "name": "stdout",
     "output_type": "stream",
     "text": [
      "187 202310190530 007.3 098.6 0662.9 003.4 329.6 00000.00 006.8 100.0 0662.7 003.9 008.6 00000.00 004.8 283.9 7.770 99.320\n",
      "\n",
      "['187', '202310190530', '007.3', '098.6', '0662.9', '003.4', '329.6', '00000.00', '006.8', '100.0', '0662.7', '003.9', '008.6', '00000.00', '004.8', '283.9', '7.770', '99.320']\n"
     ]
    }
   ],
   "source": [
    "\n",
    "value = file_content[4]\n",
    "print(value)\n",
    "value = value.split()\n",
    "print(value)"
   ]
  },
  {
   "cell_type": "code",
   "execution_count": 26,
   "id": "7679fd4e",
   "metadata": {},
   "outputs": [
    {
     "name": "stdout",
     "output_type": "stream",
     "text": [
      "tre200s0\n"
     ]
    }
   ],
   "source": [
    "temp= header[2]\n",
    "print(temp)"
   ]
  },
  {
   "cell_type": "code",
   "execution_count": 34,
   "id": "9b707878",
   "metadata": {},
   "outputs": [
    {
     "name": "stdout",
     "output_type": "stream",
     "text": [
      "007.3\n",
      "temperature value: 7.3\n"
     ]
    }
   ],
   "source": [
    "tempValue= value[2]\n",
    "print(tempValue)\n",
    "print(\"temperature value:\", float(tempValue))"
   ]
  },
  {
   "cell_type": "code",
   "execution_count": null,
   "id": "8a8a12fd",
   "metadata": {},
   "outputs": [
    {
     "name": "stdout",
     "output_type": "stream",
     "text": [
      "2\n",
      "3\n",
      "4\n",
      "5\n",
      "6\n",
      "7\n",
      "8\n",
      "9\n",
      "10\n",
      "11\n"
     ]
    }
   ],
   "source": [
    "a  = 1\n",
    "for i in range(10):\n",
    "    # a += 1\n",
    "    a = a + 1\n",
    "    print(a)"
   ]
  },
  {
   "cell_type": "code",
   "execution_count": 37,
   "id": "7f1b8ebd",
   "metadata": {},
   "outputs": [
    {
     "name": "stdout",
     "output_type": "stream",
     "text": [
      "0 : 1\n",
      "1 : 2\n",
      "2 : 4\n",
      "3 : 7\n",
      "4 : 11\n",
      "5 : 16\n",
      "6 : 22\n",
      "7 : 29\n",
      "8 : 37\n",
      "9 : 46\n"
     ]
    }
   ],
   "source": [
    "a  = 1\n",
    "for i in range(10):\n",
    "    # a += 1\n",
    "    a = a + i\n",
    "    print(i, \":\", a)"
   ]
  },
  {
   "cell_type": "code",
   "execution_count": 42,
   "id": "d5e57e39",
   "metadata": {},
   "outputs": [
    {
     "name": "stdout",
     "output_type": "stream",
     "text": [
      "0 : 1\n",
      "1 : 2\n",
      "2 : 4\n",
      "3 : 7\n",
      "4 : 11\n",
      "5 : 16\n"
     ]
    }
   ],
   "source": [
    "a  = 1\n",
    "for i in range(10):\n",
    "    # a += 1\n",
    "    a = a + i\n",
    "    if a>20:\n",
    "        break\n",
    "    print(i, \":\", a)\n",
    "   "
   ]
  },
  {
   "cell_type": "code",
   "execution_count": 45,
   "id": "f8a839fa",
   "metadata": {},
   "outputs": [
    {
     "name": "stdout",
     "output_type": "stream",
     "text": [
      "0 : 1\n",
      "1 : 2\n",
      "2 : 4\n",
      "3 : 7\n",
      "4 : 11\n",
      "5 : 16\n"
     ]
    }
   ],
   "source": [
    "a  = 1\n",
    "for i in range(10):\n",
    "    # a += 1\n",
    "    a = a + i\n",
    "    if a>20:\n",
    "        break\n",
    "    print(i, \":\", a)"
   ]
  },
  {
   "cell_type": "code",
   "execution_count": 51,
   "id": "030ebc6e",
   "metadata": {},
   "outputs": [],
   "source": [
    "import os\n",
    "path = \"/Users/mac/Documents/Documents/KADI GYM/Python-Data-Gym/kadigym1/data/meteo\"\n",
    "\n",
    "files = os.listdir(path)\n",
    "\n",
    "datetimes = list()\n",
    "temperatures = list()\n",
    "\n",
    "for file in files:\n",
    "    if \".zip\" in file:\n",
    "        continue\n",
    "    else:\n",
    "        #datetime = file.\n",
    "    \n",
    "        # Read files as text and print content\n",
    "        with open(file=os.path.join(path, file)) as fh:\n",
    "            file_content = fh.readlines()\n",
    "\n",
    "        temp = file_content[4].split()[2]\n",
    "        "
   ]
  },
  {
   "cell_type": "code",
   "execution_count": 47,
   "id": "171ab3ec",
   "metadata": {},
   "outputs": [
    {
     "ename": "FileNotFoundError",
     "evalue": "[Errno 2] No such file or directory: 'data/meteo'",
     "output_type": "error",
     "traceback": [
      "\u001b[31m---------------------------------------------------------------------------\u001b[39m",
      "\u001b[31mFileNotFoundError\u001b[39m                         Traceback (most recent call last)",
      "\u001b[36mCell\u001b[39m\u001b[36m \u001b[39m\u001b[32mIn[47]\u001b[39m\u001b[32m, line 4\u001b[39m\n\u001b[32m      1\u001b[39m \u001b[38;5;28;01mimport\u001b[39;00m\u001b[38;5;250m \u001b[39m\u001b[34;01mos\u001b[39;00m\n\u001b[32m      2\u001b[39m path = \u001b[33m\"\u001b[39m\u001b[33mdata/meteo\u001b[39m\u001b[33m\"\u001b[39m\n\u001b[32m----> \u001b[39m\u001b[32m4\u001b[39m files = \u001b[43mos\u001b[49m\u001b[43m.\u001b[49m\u001b[43mlistdir\u001b[49m\u001b[43m(\u001b[49m\u001b[43mpath\u001b[49m\u001b[43m)\u001b[49m\n\u001b[32m      6\u001b[39m \u001b[38;5;28;01mfor\u001b[39;00m file \u001b[38;5;129;01min\u001b[39;00m files:\n\u001b[32m      7\u001b[39m     \u001b[38;5;28;01mif\u001b[39;00m \u001b[33m\"\u001b[39m\u001b[33m.zip\u001b[39m\u001b[33m\"\u001b[39m \u001b[38;5;129;01min\u001b[39;00m file:\n",
      "\u001b[31mFileNotFoundError\u001b[39m: [Errno 2] No such file or directory: 'data/meteo'"
     ]
    }
   ],
   "source": [
    "import os\n",
    "path = \"data/meteo\"\n",
    "\n",
    "files = os.listdir(path)\n",
    "\n",
    "for file in files:\n",
    "    if \".zip\" in file:\n",
    "        continue\n",
    "    else:\n",
    "        # print(file)\n",
    "\n",
    "        # Read file as text and print content\n",
    "        with open(file=os.path.join(path, file)) as fh:\n",
    "            file_content = fh.readlines()\n",
    "\n",
    "        temp = file_content[4].split()[2]\n",
    "        print(file, \"temp=\", temp)\n"
   ]
  },
  {
   "cell_type": "code",
   "execution_count": 52,
   "id": "21723a15",
   "metadata": {},
   "outputs": [
    {
     "name": "stdout",
     "output_type": "stream",
     "text": [
      "['202310190640', '202310190530', '202310190540', '202310190600', '202401111520', '202310190630', '202310190610', '202401111530', '202310190700', '202310190520', '202310190650', '202310190000', '202401111540']\n",
      "['008.1', '007.3', '007.0', '007.8', '/', '008.0', '008.6', '/', '008.6', '/', '008.5', '005.1', '/']\n"
     ]
    }
   ],
   "source": [
    "import os\n",
    "path = \"/Users/mac/Documents/Documents/KADI GYM/Python-Data-Gym/kadigym1/data/meteo\"\n",
    "\n",
    "datetimes = list()\n",
    "temperatures = list()\n",
    "\n",
    "# list all files in path\n",
    "files = os.listdir(path)\n",
    "\n",
    "for file in files:\n",
    "    if \".zip\" in file:\n",
    "        continue\n",
    "    else:\n",
    "        # datetime = file.split(sep=\".\")[1]\n",
    "        datetime = file.replace(\"VRXA00.\", \"\")\n",
    "        datetimes.append(datetime)\n",
    "\n",
    "        # Read file as text and print content\n",
    "        with open(file=os.path.join(path, file)) as fh:\n",
    "            file_content = fh.readlines()\n",
    "\n",
    "        temperature = file_content[4].split()[2]\n",
    "        temperatures.append(temperature)\n",
    "\n",
    "print(datetimes)\n",
    "print(temperatures)"
   ]
  },
  {
   "cell_type": "code",
   "execution_count": null,
   "id": "4966b89b",
   "metadata": {},
   "outputs": [],
   "source": []
  }
 ],
 "metadata": {
  "kernelspec": {
   "display_name": "Python 3",
   "language": "python",
   "name": "python3"
  },
  "language_info": {
   "codemirror_mode": {
    "name": "ipython",
    "version": 3
   },
   "file_extension": ".py",
   "mimetype": "text/x-python",
   "name": "python",
   "nbconvert_exporter": "python",
   "pygments_lexer": "ipython3",
   "version": "3.11.11"
  }
 },
 "nbformat": 4,
 "nbformat_minor": 5
}
