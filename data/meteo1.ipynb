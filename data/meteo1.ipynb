{
 "cells": [
  {
   "cell_type": "code",
   "execution_count": 36,
   "id": "ec0429c7",
   "metadata": {},
   "outputs": [
    {
     "name": "stdout",
     "output_type": "stream",
     "text": [
      "/Users/mac/Documents/Documents/KADI GYM/Python-Data-Gym/kadigym1/data/meteo/VRXA00.202310190000\n"
     ]
    }
   ],
   "source": [
    "file_path = \"/Users/mac/Documents/Documents/KADI GYM/Python-Data-Gym/kadigym1/data/meteo/VRXA00.202310190000\"\n",
    "print(file_path)"
   ]
  },
  {
   "cell_type": "code",
   "execution_count": 38,
   "id": "319eff70",
   "metadata": {},
   "outputs": [
    {
     "name": "stdout",
     "output_type": "stream",
     "text": [
      "['15834\\n', 'VRXA00 LSSW 190000\\n', '\\n', 'iii zzzztttt tre200s0 uor200s0 prestas0 fa1010z0 da1010z0 rre150z0 ta1200s0 ua1200s0 pa1stas0 fkl010z0 dkl010z0 ra1150z0 fkl010z1 gor000z0 ta2200s0 ua2200s0\\n', '187 202310190000 005.1 096.9 0661.2 001.9 190.4 00000.00 004.9 099.7 0661.1 002.3 233.5 00000.00 003.1 000.0 5.440 99.260\\n']\n"
     ]
    }
   ],
   "source": [
    "with open(file=file_path) as fh:\n",
    "    file_content = fh.readlines()\n",
    "\n",
    "print(file_content)"
   ]
  },
  {
   "cell_type": "code",
   "execution_count": 39,
   "id": "14ba687e",
   "metadata": {},
   "outputs": [
    {
     "name": "stdout",
     "output_type": "stream",
     "text": [
      "['iii', 'zzzztttt', 'tre200s0', 'uor200s0', 'prestas0', 'fa1010z0', 'da1010z0', 'rre150z0', 'ta1200s0', 'ua1200s0', 'pa1stas0', 'fkl010z0', 'dkl010z0', 'ra1150z0', 'fkl010z1', 'gor000z0', 'ta2200s0', 'ua2200s0']\n"
     ]
    }
   ],
   "source": [
    "header = file_content[3].split()\n",
    "print(header)\n"
   ]
  },
  {
   "cell_type": "code",
   "execution_count": 40,
   "id": "682fd7eb",
   "metadata": {},
   "outputs": [
    {
     "name": "stdout",
     "output_type": "stream",
     "text": [
      "list of header elements: ['iii', 'zzzztttt', 'tre200s0', 'uor200s0', 'prestas0', 'fa1010z0', 'da1010z0', 'rre150z0', 'ta1200s0', 'ua1200s0', 'pa1stas0', 'fkl010z0', 'dkl010z0', 'ra1150z0', 'fkl010z1', 'gor000z0', 'ta2200s0', 'ua2200s0']\n"
     ]
    }
   ],
   "source": [
    "header_list = header\n",
    "print(\"list of header elements:\", header_list)"
   ]
  },
  {
   "cell_type": "code",
   "execution_count": 41,
   "id": "799c5028",
   "metadata": {},
   "outputs": [
    {
     "name": "stdout",
     "output_type": "stream",
     "text": [
      "['187', '202310190000', '005.1', '096.9', '0661.2', '001.9', '190.4', '00000.00', '004.9', '099.7', '0661.1', '002.3', '233.5', '00000.00', '003.1', '000.0', '5.440', '99.260']\n"
     ]
    }
   ],
   "source": [
    "tempva = file_content[4].split()\n",
    "print(tempva)"
   ]
  },
  {
   "cell_type": "code",
   "execution_count": 42,
   "id": "263f49ef",
   "metadata": {},
   "outputs": [
    {
     "name": "stdout",
     "output_type": "stream",
     "text": [
      "list of header : ['iii', 'zzzztttt', 'tre200s0', 'uor200s0', 'prestas0', 'fa1010z0', 'da1010z0', 'rre150z0', 'ta1200s0', 'ua1200s0', 'pa1stas0', 'fkl010z0', 'dkl010z0', 'ra1150z0', 'fkl010z1', 'gor000z0', 'ta2200s0', 'ua2200s0']\n"
     ]
    }
   ],
   "source": [
    "header_list= header\n",
    "print(\"list of header :\", header_list)"
   ]
  },
  {
   "cell_type": "code",
   "execution_count": 43,
   "id": "4b547e54",
   "metadata": {},
   "outputs": [
    {
     "name": "stdout",
     "output_type": "stream",
     "text": [
      "187 202310190000 005.1 096.9 0661.2 001.9 190.4 00000.00 004.9 099.7 0661.1 002.3 233.5 00000.00 003.1 000.0 5.440 99.260\n",
      "\n"
     ]
    }
   ],
   "source": [
    "tempValue= file_content[4]\n",
    "print(tempValue)"
   ]
  },
  {
   "cell_type": "code",
   "execution_count": 44,
   "id": "9f74720d",
   "metadata": {},
   "outputs": [
    {
     "name": "stdout",
     "output_type": "stream",
     "text": [
      "VRXA00.202310190640\n",
      "VRXA00.202310190530\n",
      "VRXA00.202310190540\n",
      "VRXA00.202310190600\n",
      "VRXA00.202401111520\n",
      "VRXA00.202310190630\n",
      "VRXA00.202310190610\n",
      "VRXA00.202401111530\n",
      "VRXA00.202310190700\n",
      "VRXA00.202310190520\n",
      "VRXA00.202310190650\n",
      "VRXA00.202310190000\n",
      "VRXA00.202401111540\n"
     ]
    }
   ],
   "source": [
    "import os\n",
    "path = \"/Users/mac/Documents/Documents/KADI GYM/Python-Data-Gym/kadigym1/data/meteo\"\n",
    "\n",
    "files = os.listdir(path)\n",
    "\n",
    "for file in files:\n",
    "    if \".zip\" in file:\n",
    "        continue\n",
    "    else:\n",
    "        print(file)"
   ]
  },
  {
   "cell_type": "code",
   "execution_count": 45,
   "id": "18b67fe6",
   "metadata": {},
   "outputs": [
    {
     "name": "stdout",
     "output_type": "stream",
     "text": [
      "VRXA00.202310190640 temp= 008.1\n",
      "VRXA00.202310190530 temp= 007.3\n",
      "VRXA00.202310190540 temp= 007.0\n",
      "VRXA00.202310190600 temp= 007.8\n",
      "VRXA00.202401111520 temp= /\n",
      "VRXA00.202310190630 temp= 008.0\n",
      "VRXA00.202310190610 temp= 008.6\n",
      "VRXA00.202401111530 temp= /\n",
      "VRXA00.202310190700 temp= 008.6\n",
      "VRXA00.202310190520 temp= /\n",
      "VRXA00.202310190650 temp= 008.5\n",
      "VRXA00.202310190000 temp= 005.1\n",
      "VRXA00.202401111540 temp= /\n"
     ]
    }
   ],
   "source": [
    "import os\n",
    "path = \"/Users/mac/Documents/Documents/KADI GYM/Python-Data-Gym/kadigym1/data/meteo\"\n",
    "\n",
    "files = os.listdir(path)\n",
    "\n",
    "for file in files:\n",
    "    if \".zip\" in file:\n",
    "        continue\n",
    "    else:\n",
    "        # print(file)\n",
    "\n",
    "        # Read file as text and print content\n",
    "        with open(file=os.path.join(path, file)) as fh:\n",
    "            file_content = fh.readlines()\n",
    "\n",
    "        temp = file_content[4].split()[2]\n",
    "        print(file, \"temp=\", temp)"
   ]
  },
  {
   "cell_type": "code",
   "execution_count": 47,
   "id": "9d88455c",
   "metadata": {},
   "outputs": [
    {
     "name": "stdout",
     "output_type": "stream",
     "text": [
      "['202310190640', '202310190530', '202310190540', '202310190600', '202401111520', '202310190630', '202310190610', '202401111530', '202310190700', '202310190520', '202310190650', '202310190000', '202401111540']\n",
      "[8.1, 7.3, 7.0, 7.8, None, 8.0, 8.6, None, 8.6, None, 8.5, 5.1, None]\n"
     ]
    }
   ],
   "source": [
    "import os\n",
    "path = \"/Users/mac/Documents/Documents/KADI GYM/Python-Data-Gym/kadigym1/data/meteo\"\n",
    "\n",
    "datetimes = list()\n",
    "temperatures = list()\n",
    "\n",
    "# list all files in path\n",
    "files = os.listdir(path)\n",
    "\n",
    "for file in files:\n",
    "    if \".zip\" in file:\n",
    "        continue\n",
    "    else:\n",
    "        # datetime = file.split(sep=\".\")[1]\n",
    "        datetime = file.replace(\"VRXA00.\", \"\")\n",
    "        datetimes.append(datetime)\n",
    "\n",
    "        # Read file as text and print content\n",
    "        with open(file=os.path.join(path, file)) as fh:\n",
    "            file_content = fh.readlines()\n",
    "\n",
    "        temperature = file_content[4].split()[2]\n",
    "        try:\n",
    "            temperature = float(temperature)\n",
    "        except:\n",
    "            temperature = None\n",
    "        temperatures.append(temperature)\n",
    "\n",
    "print(datetimes)\n",
    "print(temperatures)"
   ]
  },
  {
   "cell_type": "code",
   "execution_count": 48,
   "id": "1f209d41",
   "metadata": {},
   "outputs": [
    {
     "name": "stdout",
     "output_type": "stream",
     "text": [
      "[datetime.datetime(2023, 10, 19, 6, 40, tzinfo=datetime.timezone.utc), datetime.datetime(2023, 10, 19, 5, 30, tzinfo=datetime.timezone.utc), datetime.datetime(2023, 10, 19, 5, 40, tzinfo=datetime.timezone.utc), datetime.datetime(2023, 10, 19, 6, 0, tzinfo=datetime.timezone.utc), datetime.datetime(2024, 1, 11, 15, 20, tzinfo=datetime.timezone.utc), datetime.datetime(2023, 10, 19, 6, 30, tzinfo=datetime.timezone.utc), datetime.datetime(2023, 10, 19, 6, 10, tzinfo=datetime.timezone.utc), datetime.datetime(2024, 1, 11, 15, 30, tzinfo=datetime.timezone.utc), datetime.datetime(2023, 10, 19, 7, 0, tzinfo=datetime.timezone.utc), datetime.datetime(2023, 10, 19, 5, 20, tzinfo=datetime.timezone.utc), datetime.datetime(2023, 10, 19, 6, 50, tzinfo=datetime.timezone.utc), datetime.datetime(2023, 10, 19, 0, 0, tzinfo=datetime.timezone.utc), datetime.datetime(2024, 1, 11, 15, 40, tzinfo=datetime.timezone.utc)]\n"
     ]
    }
   ],
   "source": [
    "from datetime import datetime, timezone\n",
    "\n",
    "datetimes_utc = [\n",
    "    datetime.strptime(ds, \"%Y%m%d%H%M\").replace(tzinfo=timezone.utc)\n",
    "    for ds in datetimes\n",
    "]\n",
    "print(datetimes_utc)"
   ]
  },
  {
   "cell_type": "code",
   "execution_count": null,
   "id": "4318c2d8",
   "metadata": {},
   "outputs": [],
   "source": []
  },
  {
   "cell_type": "code",
   "execution_count": 57,
   "id": "a24b8adb",
   "metadata": {},
   "outputs": [
    {
     "ename": "ModuleNotFoundError",
     "evalue": "No module named 'matplotlib'",
     "output_type": "error",
     "traceback": [
      "\u001b[31m---------------------------------------------------------------------------\u001b[39m",
      "\u001b[31mModuleNotFoundError\u001b[39m                       Traceback (most recent call last)",
      "\u001b[36mCell\u001b[39m\u001b[36m \u001b[39m\u001b[32mIn[57]\u001b[39m\u001b[32m, line 1\u001b[39m\n\u001b[32m----> \u001b[39m\u001b[32m1\u001b[39m \u001b[38;5;28;01mimport\u001b[39;00m\u001b[38;5;250m \u001b[39m\u001b[34;01mmatplotlib\u001b[39;00m\u001b[34;01m.\u001b[39;00m\u001b[34;01mpyplot\u001b[39;00m\u001b[38;5;250m \u001b[39m\u001b[38;5;28;01mas\u001b[39;00m\u001b[38;5;250m \u001b[39m\u001b[34;01mplt\u001b[39;00m\n\u001b[32m      3\u001b[39m fig = plt.figure()\n\u001b[32m      4\u001b[39m plt.scatter(df[\u001b[33m\"\u001b[39m\u001b[33mdtm\u001b[39m\u001b[33m\"\u001b[39m], df[\u001b[33m\"\u001b[39m\u001b[33mT\u001b[39m\u001b[33m\"\u001b[39m])\n",
      "\u001b[31mModuleNotFoundError\u001b[39m: No module named 'matplotlib'"
     ]
    }
   ],
   "source": [
    "import matplotlib.pyplot as plt\n",
    "\n",
    "fig = plt.figure()\n",
    "plt.scatter(df[\"dtm\"], df[\"T\"])"
   ]
  }
 ],
 "metadata": {
  "kernelspec": {
   "display_name": "Python 3",
   "language": "python",
   "name": "python3"
  },
  "language_info": {
   "codemirror_mode": {
    "name": "ipython",
    "version": 3
   },
   "file_extension": ".py",
   "mimetype": "text/x-python",
   "name": "python",
   "nbconvert_exporter": "python",
   "pygments_lexer": "ipython3",
   "version": "3.11.11"
  }
 },
 "nbformat": 4,
 "nbformat_minor": 5
}
